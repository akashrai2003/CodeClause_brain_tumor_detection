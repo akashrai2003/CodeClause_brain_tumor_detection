{
 "cells": [
  {
   "cell_type": "code",
   "execution_count": 2,
   "id": "fb654f61",
   "metadata": {
    "scrolled": true
   },
   "outputs": [],
   "source": [
    "import cv2\n",
    "import os\n",
    "from PIL import Image\n",
    "import numpy as np\n",
    "from sklearn.model_selection import train_test_split\n",
    "import tensorflow as tf\n",
    "from tensorflow import keras\n",
    "from keras.utils import normalize\n",
    "from keras.models import Sequential\n",
    "from keras.layers import Conv2D,MaxPooling2D,Activation,Dropout,Flatten,Dense"
   ]
  },
  {
   "cell_type": "code",
   "execution_count": 3,
   "id": "0cd11a80",
   "metadata": {},
   "outputs": [],
   "source": [
    "image_dir='brain_tumor_dataset/'\n",
    "no_tumor=os.listdir(image_dir+'no/')\n",
    "yes_tumor=os.listdir(image_dir+'yes/')"
   ]
  },
  {
   "cell_type": "code",
   "execution_count": 4,
   "id": "9bb9c06a",
   "metadata": {},
   "outputs": [],
   "source": [
    "dataset=[]\n",
    "label=[]\n",
    "INPUT_SIZE=64"
   ]
  },
  {
   "cell_type": "code",
   "execution_count": 5,
   "id": "8c0e67dc",
   "metadata": {},
   "outputs": [],
   "source": [
    "# We need the images in jpg formatcso to check that\n",
    "for i,image_name in enumerate(no_tumor):\n",
    "    if(image_name.split('.')[1]=='jpg'):\n",
    "        image=cv2.imread(image_dir+'no/'+image_name)\n",
    "        #converting to RGB\n",
    "        image=Image.fromarray(image,'RGB')\n",
    "        image=image.resize((INPUT_SIZE,INPUT_SIZE))\n",
    "        dataset.append(np.array(image))\n",
    "        label.append(0)\n",
    "        \n",
    "for i,image_name in enumerate(yes_tumor):\n",
    "    if(image_name.split('.')[1]=='jpg'):\n",
    "        image=cv2.imread(image_dir+'yes/'+image_name)\n",
    "        #converting to RGB\n",
    "        image=Image.fromarray(image,'RGB')\n",
    "        image=image.resize((INPUT_SIZE,INPUT_SIZE))\n",
    "        dataset.append(np.array(image))\n",
    "        label.append(1)"
   ]
  },
  {
   "cell_type": "code",
   "execution_count": 6,
   "id": "a637305c",
   "metadata": {},
   "outputs": [
    {
     "name": "stdout",
     "output_type": "stream",
     "text": [
      "3000\n"
     ]
    }
   ],
   "source": [
    "print(len(label))"
   ]
  },
  {
   "cell_type": "code",
   "execution_count": 7,
   "id": "9b8993e8",
   "metadata": {},
   "outputs": [],
   "source": [
    "dataset=np.array(dataset)\n",
    "label=np.array(label)"
   ]
  },
  {
   "cell_type": "code",
   "execution_count": 8,
   "id": "f3155d55",
   "metadata": {},
   "outputs": [],
   "source": [
    "x_train,x_test,y_train,y_test=train_test_split(dataset,label,test_size=0.2,random_state=0)"
   ]
  },
  {
   "cell_type": "code",
   "execution_count": 9,
   "id": "4b4ce344",
   "metadata": {},
   "outputs": [
    {
     "name": "stdout",
     "output_type": "stream",
     "text": [
      "(2400, 64, 64, 3)\n",
      "(2400,)\n"
     ]
    }
   ],
   "source": [
    "print(x_train.shape)\n",
    "print(y_train.shape)"
   ]
  },
  {
   "cell_type": "code",
   "execution_count": 10,
   "id": "7ca5392e",
   "metadata": {},
   "outputs": [
    {
     "name": "stdout",
     "output_type": "stream",
     "text": [
      "(600, 64, 64, 3)\n",
      "(600,)\n"
     ]
    }
   ],
   "source": [
    "print(x_test.shape)\n",
    "print(y_test.shape)"
   ]
  },
  {
   "cell_type": "code",
   "execution_count": 11,
   "id": "d493b379",
   "metadata": {},
   "outputs": [],
   "source": [
    "x_train=normalize(x_train,axis=1)\n",
    "x_test=normalize(x_test,axis=1)"
   ]
  },
  {
   "cell_type": "code",
   "execution_count": 48,
   "id": "d0853383",
   "metadata": {},
   "outputs": [],
   "source": [
    "model=Sequential()\n",
    "model.add(Conv2D(32,(3,3),input_shape=(INPUT_SIZE,INPUT_SIZE,3)))\n",
    "model.add(Activation('relu'))\n",
    "model.add(MaxPooling2D(pool_size=(2,2)))\n",
    "model.add(Conv2D(64,(3,3),kernel_initializer='he_uniform'))\n",
    "model.add(Activation('relu'))\n",
    "model.add(MaxPooling2D(pool_size=(2,2)))\n",
    "model.add(Conv2D(64,(3,3),kernel_initializer='he_uniform'))\n",
    "model.add(Activation('relu'))\n",
    "model.add(MaxPooling2D(pool_size=(2,2)))\n",
    "model.add(Flatten())\n",
    "model.add(Dense(64))\n",
    "model.add(Activation('relu'))\n",
    "model.add(Dropout(0.5))\n",
    "model.add(Dense(1))\n",
    "model.add(Activation('sigmoid'))\n"
   ]
  },
  {
   "cell_type": "code",
   "execution_count": 49,
   "id": "78f42b0a",
   "metadata": {},
   "outputs": [],
   "source": [
    "model.compile(loss='binary_crossentropy',optimizer='adam',metrics=['accuracy'])"
   ]
  },
  {
   "cell_type": "code",
   "execution_count": 64,
   "id": "8124befd",
   "metadata": {},
   "outputs": [
    {
     "name": "stdout",
     "output_type": "stream",
     "text": [
      "Epoch 1/10\n",
      "150/150 [==============================] - 7s 44ms/step - loss: 0.0203 - accuracy: 0.9937 - val_loss: 0.0998 - val_accuracy: 0.9783\n",
      "Epoch 2/10\n",
      "150/150 [==============================] - 6s 39ms/step - loss: 0.0143 - accuracy: 0.9962 - val_loss: 0.1097 - val_accuracy: 0.9817\n",
      "Epoch 3/10\n",
      "150/150 [==============================] - 6s 41ms/step - loss: 0.0105 - accuracy: 0.9962 - val_loss: 0.1020 - val_accuracy: 0.9850\n",
      "Epoch 4/10\n",
      "150/150 [==============================] - 7s 46ms/step - loss: 0.0192 - accuracy: 0.9942 - val_loss: 0.0985 - val_accuracy: 0.9800\n",
      "Epoch 5/10\n",
      "150/150 [==============================] - 7s 47ms/step - loss: 0.0065 - accuracy: 0.9979 - val_loss: 0.1287 - val_accuracy: 0.9817\n",
      "Epoch 6/10\n",
      "150/150 [==============================] - 8s 51ms/step - loss: 0.0022 - accuracy: 1.0000 - val_loss: 0.1162 - val_accuracy: 0.9833\n",
      "Epoch 7/10\n",
      "150/150 [==============================] - 7s 48ms/step - loss: 0.0224 - accuracy: 0.9954 - val_loss: 0.1556 - val_accuracy: 0.9467\n",
      "Epoch 8/10\n",
      "150/150 [==============================] - 8s 53ms/step - loss: 0.0161 - accuracy: 0.9950 - val_loss: 0.0963 - val_accuracy: 0.9817\n",
      "Epoch 9/10\n",
      "150/150 [==============================] - 6s 41ms/step - loss: 0.0033 - accuracy: 0.9992 - val_loss: 0.1205 - val_accuracy: 0.9800\n",
      "Epoch 10/10\n",
      "150/150 [==============================] - 6s 42ms/step - loss: 0.0022 - accuracy: 1.0000 - val_loss: 0.1066 - val_accuracy: 0.9833\n"
     ]
    }
   ],
   "source": [
    "history=model.fit(x_train,y_train,\n",
    "          batch_size=16,\n",
    "          verbose=1,\n",
    "          epochs=10,\n",
    "          validation_data=(x_test,y_test),\n",
    "          shuffle=False)"
   ]
  },
  {
   "cell_type": "code",
   "execution_count": 65,
   "id": "075301b5",
   "metadata": {},
   "outputs": [
    {
     "name": "stdout",
     "output_type": "stream",
     "text": [
      "Model: \"sequential_4\"\n",
      "_________________________________________________________________\n",
      " Layer (type)                Output Shape              Param #   \n",
      "=================================================================\n",
      " conv2d_10 (Conv2D)          (None, 62, 62, 32)        896       \n",
      "                                                                 \n",
      " activation_18 (Activation)  (None, 62, 62, 32)        0         \n",
      "                                                                 \n",
      " max_pooling2d_10 (MaxPoolin  (None, 31, 31, 32)       0         \n",
      " g2D)                                                            \n",
      "                                                                 \n",
      " conv2d_11 (Conv2D)          (None, 29, 29, 64)        18496     \n",
      "                                                                 \n",
      " activation_19 (Activation)  (None, 29, 29, 64)        0         \n",
      "                                                                 \n",
      " max_pooling2d_11 (MaxPoolin  (None, 14, 14, 64)       0         \n",
      " g2D)                                                            \n",
      "                                                                 \n",
      " conv2d_12 (Conv2D)          (None, 12, 12, 64)        36928     \n",
      "                                                                 \n",
      " activation_20 (Activation)  (None, 12, 12, 64)        0         \n",
      "                                                                 \n",
      " max_pooling2d_12 (MaxPoolin  (None, 6, 6, 64)         0         \n",
      " g2D)                                                            \n",
      "                                                                 \n",
      " flatten_4 (Flatten)         (None, 2304)              0         \n",
      "                                                                 \n",
      " dense_8 (Dense)             (None, 64)                147520    \n",
      "                                                                 \n",
      " activation_21 (Activation)  (None, 64)                0         \n",
      "                                                                 \n",
      " dropout_4 (Dropout)         (None, 64)                0         \n",
      "                                                                 \n",
      " dense_9 (Dense)             (None, 1)                 65        \n",
      "                                                                 \n",
      " activation_22 (Activation)  (None, 1)                 0         \n",
      "                                                                 \n",
      "=================================================================\n",
      "Total params: 203,905\n",
      "Trainable params: 203,905\n",
      "Non-trainable params: 0\n",
      "_________________________________________________________________\n"
     ]
    }
   ],
   "source": [
    "model.summary()"
   ]
  },
  {
   "cell_type": "code",
   "execution_count": 66,
   "id": "a7093cb2",
   "metadata": {},
   "outputs": [],
   "source": [
    "model.save('Brain_Tumor_with_binarycrossentropy.h5')"
   ]
  },
  {
   "cell_type": "code",
   "execution_count": 67,
   "id": "c671cc45",
   "metadata": {},
   "outputs": [],
   "source": [
    "#Now predicting using the Prediction data given\n",
    "from keras.models import load_model\n",
    "\n",
    "model=load_model('Brain_Tumor_with_binarycrossentropy.h5')"
   ]
  },
  {
   "cell_type": "code",
   "execution_count": 68,
   "id": "3a424204",
   "metadata": {},
   "outputs": [],
   "source": [
    "img=cv2.imread('brain_tumor_dataset/pred/pred5.jpg')"
   ]
  },
  {
   "cell_type": "code",
   "execution_count": 69,
   "id": "5a1deee0",
   "metadata": {},
   "outputs": [],
   "source": [
    "img=Image.fromarray(img)\n",
    "img=img.resize((64,64))\n",
    "img=np.array(img)"
   ]
  },
  {
   "cell_type": "code",
   "execution_count": 70,
   "id": "1b91181e",
   "metadata": {},
   "outputs": [],
   "source": [
    "input_img=np.expand_dims(img,axis=0)"
   ]
  },
  {
   "cell_type": "code",
   "execution_count": 71,
   "id": "93308fb9",
   "metadata": {},
   "outputs": [
    {
     "name": "stdout",
     "output_type": "stream",
     "text": [
      "1/1 [==============================] - 0s 80ms/step\n",
      "[[1.]]\n"
     ]
    }
   ],
   "source": [
    "result = model.predict(input_img)\n",
    "print(result)"
   ]
  },
  {
   "cell_type": "code",
   "execution_count": 84,
   "id": "05ebadea",
   "metadata": {},
   "outputs": [
    {
     "data": {
      "text/plain": [
       "<function matplotlib.pyplot.show(close=None, block=None)>"
      ]
     },
     "execution_count": 84,
     "metadata": {},
     "output_type": "execute_result"
    },
    {
     "data": {
      "image/png": "[encoded data removed]",
      "text/plain": [
       "<Figure size 700x700 with 1 Axes>"
      ]
     },
     "metadata": {},
     "output_type": "display_data"
    }
   ],
   "source": [
    "import matplotlib.pyplot as plt\n",
    "import seaborn as sns\n",
    "\n",
    "epochs=10\n",
    "acc=history.history['accuracy']\n",
    "val_acc=history.history['val_accuracy']\n",
    "\n",
    "fig=plt.figure(figsize=(7,7))\n",
    "plt.subplot(2, 1, 1)\n",
    "plt.plot(acc, label='Training Accuracy')\n",
    "plt.plot(val_acc, label='Validation Accuracy')\n",
    "plt.legend(loc='lower right')\n",
    "plt.ylabel('Accuracy')\n",
    "plt.ylim([min(plt.ylim()),1])\n",
    "plt.title('Training and Validation Accuracy')\n",
    "plt.show"
   ]
  },
  {
   "cell_type": "code",
   "execution_count": null,
   "id": "6bc40f82",
   "metadata": {},
   "outputs": [],
   "source": [
    "\n"
   ]
  },
  {
   "cell_type": "code",
   "execution_count": null,
   "id": "f4099802",
   "metadata": {},
   "outputs": [],
   "source": []
  }
 ],
 "metadata": {
  "kernelspec": {
   "display_name": "Python 3 (ipykernel)",
   "language": "python",
   "name": "python3"
  },
  "language_info": {
   "codemirror_mode": {
    "name": "ipython",
    "version": 3
   },
   "file_extension": ".py",
   "mimetype": "text/x-python",
   "name": "python",
   "nbconvert_exporter": "python",
   "pygments_lexer": "ipython3",
   "version": "3.10.9"
  }
 },
 "nbformat": 4,
 "nbformat_minor": 5
}
